{
  "nbformat": 4,
  "nbformat_minor": 0,
  "metadata": {
    "colab": {
      "name": "autoencoder.ipynb",
      "provenance": [],
      "include_colab_link": true
    },
    "kernelspec": {
      "name": "python3",
      "display_name": "Python 3"
    },
    "accelerator": "GPU"
  },
  "cells": [
    {
      "cell_type": "markdown",
      "metadata": {
        "id": "view-in-github",
        "colab_type": "text"
      },
      "source": [
        "<a href=\"https://colab.research.google.com/github/YueunKim/Kriss_DL/blob/master/autoencoder.ipynb\" target=\"_parent\"><img src=\"https://colab.research.google.com/assets/colab-badge.svg\" alt=\"Open In Colab\"/></a>"
      ]
    },
    {
      "cell_type": "code",
      "metadata": {
        "id": "7u-zHeaOyjn2",
        "colab": {
          "base_uri": "https://localhost:8080/"
        },
        "outputId": "f2228788-340a-4a91-debf-90bed0b46ee2"
      },
      "source": [
        "%tensorflow_version 1.x"
      ],
      "execution_count": 3,
      "outputs": [
        {
          "output_type": "stream",
          "text": [
            "TensorFlow 1.x selected.\n"
          ],
          "name": "stdout"
        }
      ]
    },
    {
      "cell_type": "markdown",
      "metadata": {
        "id": "jLKCaOxfGQg3"
      },
      "source": [
        "copy from https://blog.naver.com/ckdgus1433/221443838135"
      ]
    },
    {
      "cell_type": "markdown",
      "metadata": {
        "id": "3gUCJI7zK6V0"
      },
      "source": [
        "# 모듈 임포팅"
      ]
    },
    {
      "cell_type": "code",
      "metadata": {
        "id": "Y3ayalJEK4Me"
      },
      "source": [
        "import matplotlib.pyplot as plt\n",
        "import numpy as np\n",
        "from tensorflow.keras.datasets import mnist\n",
        "from tensorflow.keras.layers import Dense\n",
        "from tensorflow.keras.models import Sequential"
      ],
      "execution_count": 4,
      "outputs": []
    },
    {
      "cell_type": "markdown",
      "metadata": {
        "id": "-8b8fVWQK9JD"
      },
      "source": [
        "# 데이터 로딩"
      ]
    },
    {
      "cell_type": "code",
      "metadata": {
        "id": "D0QMMukcK56L",
        "colab": {
          "base_uri": "https://localhost:8080/"
        },
        "outputId": "b306b695-6e7e-41dd-9f3b-60f540242587"
      },
      "source": [
        "# MNIST 로딩 (라벨은 필요없기 때문에 버림)\n",
        "(x_train, _), (x_test, _) = mnist.load_data()"
      ],
      "execution_count": 5,
      "outputs": [
        {
          "output_type": "stream",
          "text": [
            "Downloading data from https://storage.googleapis.com/tensorflow/tf-keras-datasets/mnist.npz\n",
            "11493376/11490434 [==============================] - 0s 0us/step\n"
          ],
          "name": "stdout"
        }
      ]
    },
    {
      "cell_type": "markdown",
      "metadata": {
        "id": "OOAbPf_ZK_6b"
      },
      "source": [
        "# Normalization"
      ]
    },
    {
      "cell_type": "code",
      "metadata": {
        "id": "WWimdhYPLBTj"
      },
      "source": [
        "# 데이터 정규화\n",
        "x_train = x_train.astype('float32') / 255.\n",
        "x_test = x_test.astype('float32') / 255.\n"
      ],
      "execution_count": 6,
      "outputs": []
    },
    {
      "cell_type": "markdown",
      "metadata": {
        "id": "COdPgRsoLBjD"
      },
      "source": [
        "# Flattening"
      ]
    },
    {
      "cell_type": "code",
      "metadata": {
        "id": "wjDc3mmbLB-D"
      },
      "source": [
        "x_train = np.reshape(x_train, (len(x_train), 784))\n",
        "x_test = np.reshape(x_test, (len(x_test), 784))\n"
      ],
      "execution_count": 7,
      "outputs": []
    },
    {
      "cell_type": "markdown",
      "metadata": {
        "id": "6na4p0mnLj8j"
      },
      "source": [
        "# 영상 보기"
      ]
    },
    {
      "cell_type": "code",
      "metadata": {
        "id": "y--Ep7aULL17",
        "colab": {
          "base_uri": "https://localhost:8080/",
          "height": 129
        },
        "outputId": "a779183d-3859-4ddb-9856-a1d0c9756d91"
      },
      "source": [
        "# Noise가 추가된 데이터 확인\n",
        "n = 10\n",
        "plt.figure(figsize=(20, 2))\n",
        "for i in range(1,n):\n",
        "    ax = plt.subplot(1, n, i)\n",
        "    plt.imshow(x_train[i].reshape(28, 28))\n",
        "    plt.gray()\n",
        "    ax.get_xaxis().set_visible(False)\n",
        "    ax.get_yaxis().set_visible(False)\n",
        "plt.show()"
      ],
      "execution_count": 8,
      "outputs": [
        {
          "output_type": "display_data",
          "data": {
            "image/png": "[encoded data removed]",
            "text/plain": [
              "<Figure size 1440x144 with 9 Axes>"
            ]
          },
          "metadata": {
            "tags": [],
            "needs_background": "light"
          }
        }
      ]
    },
    {
      "cell_type": "markdown",
      "metadata": {
        "id": "i01JyXUqL7yF"
      },
      "source": [
        "# 모델 정의와 학습 실행"
      ]
    },
    {
      "cell_type": "code",
      "metadata": {
        "id": "bvY_c15CLL48",
        "colab": {
          "base_uri": "https://localhost:8080/"
        },
        "outputId": "815dbcb8-7d94-4260-da03-219af1093291"
      },
      "source": [
        "# 모형 구성\n",
        "model = Sequential()\n",
        "model.add(Dense(128, activation='relu', input_dim=784))\n",
        "model.add(Dense(64, activation='relu'))\n",
        "model.add(Dense(32, activation='relu'))\n",
        "model.add(Dense(64, activation='relu'))\n",
        "model.add(Dense(128, activation='relu'))\n",
        "model.add(Dense(784, activation='sigmoid'))\n",
        "model.compile(optimizer='adam', loss='binary_crossentropy')\n",
        "\n",
        "\n",
        "# 모형 학습\n",
        "model.fit(x_train, x_train, \n",
        "          epochs=100,\n",
        "          batch_size=256,\n",
        "          shuffle=True)\n"
      ],
      "execution_count": 9,
      "outputs": [
        {
          "output_type": "stream",
          "text": [
            "WARNING:tensorflow:From /tensorflow-1.15.2/python3.6/tensorflow_core/python/ops/resource_variable_ops.py:1630: calling BaseResourceVariable.__init__ (from tensorflow.python.ops.resource_variable_ops) with constraint is deprecated and will be removed in a future version.\n",
            "Instructions for updating:\n",
            "If using Keras pass *_constraint arguments to layers.\n",
            "WARNING:tensorflow:From /tensorflow-1.15.2/python3.6/tensorflow_core/python/ops/nn_impl.py:183: where (from tensorflow.python.ops.array_ops) is deprecated and will be removed in a future version.\n",
            "Instructions for updating:\n",
            "Use tf.where in 2.0, which has the same broadcast rule as np.where\n",
            "Train on 60000 samples\n",
            "Epoch 1/100\n",
            "60000/60000 [==============================] - 11s 191us/sample - loss: 0.2510\n",
            "Epoch 2/100\n",
            "60000/60000 [==============================] - 1s 14us/sample - loss: 0.1556\n",
            "Epoch 3/100\n",
            "60000/60000 [==============================] - 1s 13us/sample - loss: 0.1347\n",
            "Epoch 4/100\n",
            "60000/60000 [==============================] - 1s 13us/sample - loss: 0.1223\n",
            "Epoch 5/100\n",
            "60000/60000 [==============================] - 1s 13us/sample - loss: 0.1158\n",
            "Epoch 6/100\n",
            "60000/60000 [==============================] - 1s 13us/sample - loss: 0.1115\n",
            "Epoch 7/100\n",
            "60000/60000 [==============================] - 1s 14us/sample - loss: 0.1082\n",
            "Epoch 8/100\n",
            "60000/60000 [==============================] - 1s 13us/sample - loss: 0.1056\n",
            "Epoch 9/100\n",
            "60000/60000 [==============================] - 1s 14us/sample - loss: 0.1034\n",
            "Epoch 10/100\n",
            "60000/60000 [==============================] - 1s 13us/sample - loss: 0.1018\n",
            "Epoch 11/100\n",
            "60000/60000 [==============================] - 1s 13us/sample - loss: 0.1003\n",
            "Epoch 12/100\n",
            "60000/60000 [==============================] - 1s 13us/sample - loss: 0.0991\n",
            "Epoch 13/100\n",
            "60000/60000 [==============================] - 1s 13us/sample - loss: 0.0979\n",
            "Epoch 14/100\n",
            "60000/60000 [==============================] - 1s 13us/sample - loss: 0.0969\n",
            "Epoch 15/100\n",
            "60000/60000 [==============================] - 1s 13us/sample - loss: 0.0959\n",
            "Epoch 16/100\n",
            "60000/60000 [==============================] - 1s 13us/sample - loss: 0.0949\n",
            "Epoch 17/100\n",
            "60000/60000 [==============================] - 1s 13us/sample - loss: 0.0939\n",
            "Epoch 18/100\n",
            "60000/60000 [==============================] - 1s 13us/sample - loss: 0.0932\n",
            "Epoch 19/100\n",
            "60000/60000 [==============================] - 1s 13us/sample - loss: 0.0925\n",
            "Epoch 20/100\n",
            "60000/60000 [==============================] - 1s 13us/sample - loss: 0.0920\n",
            "Epoch 21/100\n",
            "60000/60000 [==============================] - 1s 13us/sample - loss: 0.0915\n",
            "Epoch 22/100\n",
            "60000/60000 [==============================] - 1s 13us/sample - loss: 0.0910\n",
            "Epoch 23/100\n",
            "60000/60000 [==============================] - 1s 13us/sample - loss: 0.0906\n",
            "Epoch 24/100\n",
            "60000/60000 [==============================] - 1s 13us/sample - loss: 0.0903\n",
            "Epoch 25/100\n",
            "60000/60000 [==============================] - 1s 13us/sample - loss: 0.0900\n",
            "Epoch 26/100\n",
            "60000/60000 [==============================] - 1s 13us/sample - loss: 0.0897\n",
            "Epoch 27/100\n",
            "60000/60000 [==============================] - 1s 13us/sample - loss: 0.0894\n",
            "Epoch 28/100\n",
            "60000/60000 [==============================] - 1s 13us/sample - loss: 0.0891\n",
            "Epoch 29/100\n",
            "60000/60000 [==============================] - 1s 13us/sample - loss: 0.0889\n",
            "Epoch 30/100\n",
            "60000/60000 [==============================] - 1s 13us/sample - loss: 0.0886\n",
            "Epoch 31/100\n",
            "60000/60000 [==============================] - 1s 13us/sample - loss: 0.0884\n",
            "Epoch 32/100\n",
            "60000/60000 [==============================] - 1s 13us/sample - loss: 0.0882\n",
            "Epoch 33/100\n",
            "60000/60000 [==============================] - 1s 13us/sample - loss: 0.0880\n",
            "Epoch 34/100\n",
            "60000/60000 [==============================] - 1s 13us/sample - loss: 0.0878\n",
            "Epoch 35/100\n",
            "60000/60000 [==============================] - 1s 13us/sample - loss: 0.0876\n",
            "Epoch 36/100\n",
            "60000/60000 [==============================] - 1s 13us/sample - loss: 0.0874\n",
            "Epoch 37/100\n",
            "60000/60000 [==============================] - 1s 13us/sample - loss: 0.0871\n",
            "Epoch 38/100\n",
            "60000/60000 [==============================] - 1s 13us/sample - loss: 0.0870\n",
            "Epoch 39/100\n",
            "60000/60000 [==============================] - 1s 13us/sample - loss: 0.0868\n",
            "Epoch 40/100\n",
            "60000/60000 [==============================] - 1s 13us/sample - loss: 0.0866\n",
            "Epoch 41/100\n",
            "60000/60000 [==============================] - 1s 13us/sample - loss: 0.0864\n",
            "Epoch 42/100\n",
            "60000/60000 [==============================] - 1s 13us/sample - loss: 0.0862\n",
            "Epoch 43/100\n",
            "60000/60000 [==============================] - 1s 14us/sample - loss: 0.0860\n",
            "Epoch 44/100\n",
            "60000/60000 [==============================] - 1s 13us/sample - loss: 0.0859\n",
            "Epoch 45/100\n",
            "60000/60000 [==============================] - 1s 14us/sample - loss: 0.0857\n",
            "Epoch 46/100\n",
            "60000/60000 [==============================] - 1s 13us/sample - loss: 0.0854\n",
            "Epoch 47/100\n",
            "60000/60000 [==============================] - 1s 13us/sample - loss: 0.0853\n",
            "Epoch 48/100\n",
            "60000/60000 [==============================] - 1s 13us/sample - loss: 0.0851\n",
            "Epoch 49/100\n",
            "60000/60000 [==============================] - 1s 13us/sample - loss: 0.0849\n",
            "Epoch 50/100\n",
            "60000/60000 [==============================] - 1s 13us/sample - loss: 0.0848\n",
            "Epoch 51/100\n",
            "60000/60000 [==============================] - 1s 13us/sample - loss: 0.0847\n",
            "Epoch 52/100\n",
            "60000/60000 [==============================] - 1s 13us/sample - loss: 0.0846\n",
            "Epoch 53/100\n",
            "60000/60000 [==============================] - 1s 13us/sample - loss: 0.0845\n",
            "Epoch 54/100\n",
            "60000/60000 [==============================] - 1s 14us/sample - loss: 0.0843\n",
            "Epoch 55/100\n",
            "60000/60000 [==============================] - 1s 14us/sample - loss: 0.0842\n",
            "Epoch 56/100\n",
            "60000/60000 [==============================] - 1s 14us/sample - loss: 0.0841\n",
            "Epoch 57/100\n",
            "60000/60000 [==============================] - 1s 14us/sample - loss: 0.0840\n",
            "Epoch 58/100\n",
            "60000/60000 [==============================] - 1s 14us/sample - loss: 0.0839\n",
            "Epoch 59/100\n",
            "60000/60000 [==============================] - 1s 14us/sample - loss: 0.0838\n",
            "Epoch 60/100\n",
            "60000/60000 [==============================] - 1s 13us/sample - loss: 0.0837\n",
            "Epoch 61/100\n",
            "60000/60000 [==============================] - 1s 13us/sample - loss: 0.0836\n",
            "Epoch 62/100\n",
            "60000/60000 [==============================] - 1s 13us/sample - loss: 0.0836\n",
            "Epoch 63/100\n",
            "60000/60000 [==============================] - 1s 13us/sample - loss: 0.0835\n",
            "Epoch 64/100\n",
            "60000/60000 [==============================] - 1s 13us/sample - loss: 0.0834\n",
            "Epoch 65/100\n",
            "60000/60000 [==============================] - 1s 13us/sample - loss: 0.0833\n",
            "Epoch 66/100\n",
            "60000/60000 [==============================] - 1s 13us/sample - loss: 0.0833\n",
            "Epoch 67/100\n",
            "60000/60000 [==============================] - 1s 13us/sample - loss: 0.0832\n",
            "Epoch 68/100\n",
            "60000/60000 [==============================] - 1s 13us/sample - loss: 0.0831\n",
            "Epoch 69/100\n",
            "60000/60000 [==============================] - 1s 13us/sample - loss: 0.0831\n",
            "Epoch 70/100\n",
            "60000/60000 [==============================] - 1s 13us/sample - loss: 0.0830\n",
            "Epoch 71/100\n",
            "60000/60000 [==============================] - 1s 13us/sample - loss: 0.0830\n",
            "Epoch 72/100\n",
            "60000/60000 [==============================] - 1s 13us/sample - loss: 0.0829\n",
            "Epoch 73/100\n",
            "60000/60000 [==============================] - 1s 13us/sample - loss: 0.0829\n",
            "Epoch 74/100\n",
            "60000/60000 [==============================] - 1s 13us/sample - loss: 0.0829\n",
            "Epoch 75/100\n",
            "60000/60000 [==============================] - 1s 13us/sample - loss: 0.0828\n",
            "Epoch 76/100\n",
            "60000/60000 [==============================] - 1s 13us/sample - loss: 0.0827\n",
            "Epoch 77/100\n",
            "60000/60000 [==============================] - 1s 13us/sample - loss: 0.0827\n",
            "Epoch 78/100\n",
            "60000/60000 [==============================] - 1s 13us/sample - loss: 0.0826\n",
            "Epoch 79/100\n",
            "60000/60000 [==============================] - 1s 13us/sample - loss: 0.0826\n",
            "Epoch 80/100\n",
            "60000/60000 [==============================] - 1s 13us/sample - loss: 0.0826\n",
            "Epoch 81/100\n",
            "60000/60000 [==============================] - 1s 13us/sample - loss: 0.0825\n",
            "Epoch 82/100\n",
            "60000/60000 [==============================] - 1s 13us/sample - loss: 0.0825\n",
            "Epoch 83/100\n",
            "60000/60000 [==============================] - 1s 13us/sample - loss: 0.0825\n",
            "Epoch 84/100\n",
            "60000/60000 [==============================] - 1s 13us/sample - loss: 0.0824\n",
            "Epoch 85/100\n",
            "60000/60000 [==============================] - 1s 13us/sample - loss: 0.0823\n",
            "Epoch 86/100\n",
            "60000/60000 [==============================] - 1s 13us/sample - loss: 0.0824\n",
            "Epoch 87/100\n",
            "60000/60000 [==============================] - 1s 13us/sample - loss: 0.0823\n",
            "Epoch 88/100\n",
            "60000/60000 [==============================] - 1s 13us/sample - loss: 0.0823\n",
            "Epoch 89/100\n",
            "60000/60000 [==============================] - 1s 13us/sample - loss: 0.0823\n",
            "Epoch 90/100\n",
            "60000/60000 [==============================] - 1s 13us/sample - loss: 0.0822\n",
            "Epoch 91/100\n",
            "60000/60000 [==============================] - 1s 13us/sample - loss: 0.0822\n",
            "Epoch 92/100\n",
            "60000/60000 [==============================] - 1s 13us/sample - loss: 0.0821\n",
            "Epoch 93/100\n",
            "60000/60000 [==============================] - 1s 13us/sample - loss: 0.0821\n",
            "Epoch 94/100\n",
            "60000/60000 [==============================] - 1s 13us/sample - loss: 0.0821\n",
            "Epoch 95/100\n",
            "60000/60000 [==============================] - 1s 13us/sample - loss: 0.0821\n",
            "Epoch 96/100\n",
            "60000/60000 [==============================] - 1s 13us/sample - loss: 0.0820\n",
            "Epoch 97/100\n",
            "60000/60000 [==============================] - 1s 13us/sample - loss: 0.0821\n",
            "Epoch 98/100\n",
            "60000/60000 [==============================] - 1s 13us/sample - loss: 0.0820\n",
            "Epoch 99/100\n",
            "60000/60000 [==============================] - 1s 13us/sample - loss: 0.0819\n",
            "Epoch 100/100\n",
            "60000/60000 [==============================] - 1s 13us/sample - loss: 0.0820\n"
          ],
          "name": "stdout"
        },
        {
          "output_type": "execute_result",
          "data": {
            "text/plain": [
              "<tensorflow.python.keras.callbacks.History at 0x7f0c23c8a080>"
            ]
          },
          "metadata": {
            "tags": []
          },
          "execution_count": 9
        }
      ]
    },
    {
      "cell_type": "markdown",
      "metadata": {
        "id": "eP3_P6rDMCFa"
      },
      "source": [
        "# 결과 확인"
      ]
    },
    {
      "cell_type": "code",
      "metadata": {
        "id": "2y4hQ-VfFxF4",
        "colab": {
          "base_uri": "https://localhost:8080/",
          "height": 244
        },
        "outputId": "08ce03d5-87ee-4706-afd7-719d69a316c2"
      },
      "source": [
        "reconstruted = model.predict(x_test)\n",
        "\n",
        "n = 10\n",
        "plt.figure(figsize=(20, 6))\n",
        "for i in range(1,n):\n",
        "    # 원본 표시\n",
        "    ax = plt.subplot(3, n, i)\n",
        "    plt.imshow(x_test[i].reshape(28, 28))\n",
        "    plt.gray()\n",
        "    ax.get_xaxis().set_visible(False)\n",
        "    ax.get_yaxis().set_visible(False)\n",
        "\n",
        "\n",
        "    # 출력된 것\n",
        "    ax = plt.subplot(3, n, i + n)\n",
        "    plt.imshow(reconstruted[i].reshape(28, 28))\n",
        "    plt.gray()\n",
        "    ax.get_xaxis().set_visible(False)\n",
        "    ax.get_yaxis().set_visible(False)\n",
        "plt.show()"
      ],
      "execution_count": 10,
      "outputs": [
        {
          "output_type": "display_data",
          "data": {
            "image/png": "[encoded data removed]",
            "text/plain": [
              "<Figure size 1440x432 with 18 Axes>"
            ]
          },
          "metadata": {
            "tags": [],
            "needs_background": "light"
          }
        }
      ]
    },
    {
      "cell_type": "code",
      "metadata": {
        "id": "fTqVK4F6F1S2"
      },
      "source": [
        ""
      ],
      "execution_count": 10,
      "outputs": []
    }
  ]
}