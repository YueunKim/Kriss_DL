{
 "cells": [
  {
   "cell_type": "code",
   "execution_count": 1,
   "metadata": {
    "colab": {},
    "colab_type": "code",
    "executionInfo": {
     "elapsed": 2953,
     "status": "ok",
     "timestamp": 1600153859772,
     "user": {
      "displayName": "Minho Lee",
      "photoUrl": "https://lh3.googleusercontent.com/a-/AOh14Gj_XE-jWo5wCYVWIgZ7hcE7L2_mrlLN8GnkxoYTZQ=s64",
      "userId": "12588095538886834082"
     },
     "user_tz": -540
    },
    "id": "Qbe4L7HSsEbq"
   },
   "outputs": [
    {
     "name": "stderr",
     "output_type": "stream",
     "text": [
      "Using TensorFlow backend.\n",
      "C:\\Users\\MSI\\anaconda3\\envs\\py36_tf114\\lib\\site-packages\\tensorflow\\python\\framework\\dtypes.py:516: FutureWarning: Passing (type, 1) or '1type' as a synonym of type is deprecated; in a future version of numpy, it will be understood as (type, (1,)) / '(1,)type'.\n",
      "  _np_qint8 = np.dtype([(\"qint8\", np.int8, 1)])\n",
      "C:\\Users\\MSI\\anaconda3\\envs\\py36_tf114\\lib\\site-packages\\tensorflow\\python\\framework\\dtypes.py:517: FutureWarning: Passing (type, 1) or '1type' as a synonym of type is deprecated; in a future version of numpy, it will be understood as (type, (1,)) / '(1,)type'.\n",
      "  _np_quint8 = np.dtype([(\"quint8\", np.uint8, 1)])\n",
      "C:\\Users\\MSI\\anaconda3\\envs\\py36_tf114\\lib\\site-packages\\tensorflow\\python\\framework\\dtypes.py:518: FutureWarning: Passing (type, 1) or '1type' as a synonym of type is deprecated; in a future version of numpy, it will be understood as (type, (1,)) / '(1,)type'.\n",
      "  _np_qint16 = np.dtype([(\"qint16\", np.int16, 1)])\n",
      "C:\\Users\\MSI\\anaconda3\\envs\\py36_tf114\\lib\\site-packages\\tensorflow\\python\\framework\\dtypes.py:519: FutureWarning: Passing (type, 1) or '1type' as a synonym of type is deprecated; in a future version of numpy, it will be understood as (type, (1,)) / '(1,)type'.\n",
      "  _np_quint16 = np.dtype([(\"quint16\", np.uint16, 1)])\n",
      "C:\\Users\\MSI\\anaconda3\\envs\\py36_tf114\\lib\\site-packages\\tensorflow\\python\\framework\\dtypes.py:520: FutureWarning: Passing (type, 1) or '1type' as a synonym of type is deprecated; in a future version of numpy, it will be understood as (type, (1,)) / '(1,)type'.\n",
      "  _np_qint32 = np.dtype([(\"qint32\", np.int32, 1)])\n",
      "C:\\Users\\MSI\\anaconda3\\envs\\py36_tf114\\lib\\site-packages\\tensorflow\\python\\framework\\dtypes.py:525: FutureWarning: Passing (type, 1) or '1type' as a synonym of type is deprecated; in a future version of numpy, it will be understood as (type, (1,)) / '(1,)type'.\n",
      "  np_resource = np.dtype([(\"resource\", np.ubyte, 1)])\n",
      "C:\\Users\\MSI\\anaconda3\\envs\\py36_tf114\\lib\\site-packages\\tensorboard\\compat\\tensorflow_stub\\dtypes.py:541: FutureWarning: Passing (type, 1) or '1type' as a synonym of type is deprecated; in a future version of numpy, it will be understood as (type, (1,)) / '(1,)type'.\n",
      "  _np_qint8 = np.dtype([(\"qint8\", np.int8, 1)])\n",
      "C:\\Users\\MSI\\anaconda3\\envs\\py36_tf114\\lib\\site-packages\\tensorboard\\compat\\tensorflow_stub\\dtypes.py:542: FutureWarning: Passing (type, 1) or '1type' as a synonym of type is deprecated; in a future version of numpy, it will be understood as (type, (1,)) / '(1,)type'.\n",
      "  _np_quint8 = np.dtype([(\"quint8\", np.uint8, 1)])\n",
      "C:\\Users\\MSI\\anaconda3\\envs\\py36_tf114\\lib\\site-packages\\tensorboard\\compat\\tensorflow_stub\\dtypes.py:543: FutureWarning: Passing (type, 1) or '1type' as a synonym of type is deprecated; in a future version of numpy, it will be understood as (type, (1,)) / '(1,)type'.\n",
      "  _np_qint16 = np.dtype([(\"qint16\", np.int16, 1)])\n",
      "C:\\Users\\MSI\\anaconda3\\envs\\py36_tf114\\lib\\site-packages\\tensorboard\\compat\\tensorflow_stub\\dtypes.py:544: FutureWarning: Passing (type, 1) or '1type' as a synonym of type is deprecated; in a future version of numpy, it will be understood as (type, (1,)) / '(1,)type'.\n",
      "  _np_quint16 = np.dtype([(\"quint16\", np.uint16, 1)])\n",
      "C:\\Users\\MSI\\anaconda3\\envs\\py36_tf114\\lib\\site-packages\\tensorboard\\compat\\tensorflow_stub\\dtypes.py:545: FutureWarning: Passing (type, 1) or '1type' as a synonym of type is deprecated; in a future version of numpy, it will be understood as (type, (1,)) / '(1,)type'.\n",
      "  _np_qint32 = np.dtype([(\"qint32\", np.int32, 1)])\n",
      "C:\\Users\\MSI\\anaconda3\\envs\\py36_tf114\\lib\\site-packages\\tensorboard\\compat\\tensorflow_stub\\dtypes.py:550: FutureWarning: Passing (type, 1) or '1type' as a synonym of type is deprecated; in a future version of numpy, it will be understood as (type, (1,)) / '(1,)type'.\n",
      "  np_resource = np.dtype([(\"resource\", np.ubyte, 1)])\n"
     ]
    }
   ],
   "source": [
    "from keras.models import Sequential\n",
    "from keras.layers import Dense\n",
    "import numpy"
   ]
  },
  {
   "cell_type": "code",
   "execution_count": 2,
   "metadata": {
    "colab": {},
    "colab_type": "code",
    "executionInfo": {
     "elapsed": 2644,
     "status": "ok",
     "timestamp": 1600153859778,
     "user": {
      "displayName": "Minho Lee",
      "photoUrl": "https://lh3.googleusercontent.com/a-/AOh14Gj_XE-jWo5wCYVWIgZ7hcE7L2_mrlLN8GnkxoYTZQ=s64",
      "userId": "12588095538886834082"
     },
     "user_tz": -540
    },
    "id": "iMMPWdPZsEbu"
   },
   "outputs": [],
   "source": [
    "numpy.random.seed(123)"
   ]
  },
  {
   "cell_type": "code",
   "execution_count": 4,
   "metadata": {
    "colab": {},
    "colab_type": "code",
    "executionInfo": {
     "elapsed": 2486,
     "status": "ok",
     "timestamp": 1600153859780,
     "user": {
      "displayName": "Minho Lee",
      "photoUrl": "https://lh3.googleusercontent.com/a-/AOh14Gj_XE-jWo5wCYVWIgZ7hcE7L2_mrlLN8GnkxoYTZQ=s64",
      "userId": "12588095538886834082"
     },
     "user_tz": -540
    },
    "id": "6ihBrkt_sEbx"
   },
   "outputs": [],
   "source": [
    "data = numpy.loadtxt(\"C:\\Workspace\\Kriss_DL/Pima_diabets_dataset.csv\", delimiter=\",\", skiprows=1)"
   ]
  },
  {
   "cell_type": "code",
   "execution_count": 5,
   "metadata": {
    "colab": {
     "base_uri": "https://localhost:8080/",
     "height": 36
    },
    "colab_type": "code",
    "executionInfo": {
     "elapsed": 2326,
     "status": "ok",
     "timestamp": 1600153859782,
     "user": {
      "displayName": "Minho Lee",
      "photoUrl": "https://lh3.googleusercontent.com/a-/AOh14Gj_XE-jWo5wCYVWIgZ7hcE7L2_mrlLN8GnkxoYTZQ=s64",
      "userId": "12588095538886834082"
     },
     "user_tz": -540
    },
    "id": "wiqazbQTxB2s",
    "outputId": "a52bd24f-15de-4512-a693-53e172cf3b21"
   },
   "outputs": [
    {
     "name": "stdout",
     "output_type": "stream",
     "text": [
      "(768, 9)\n"
     ]
    }
   ],
   "source": [
    "print(data.shape)"
   ]
  },
  {
   "cell_type": "code",
   "execution_count": 6,
   "metadata": {
    "colab": {
     "base_uri": "https://localhost:8080/",
     "height": 148
    },
    "colab_type": "code",
    "executionInfo": {
     "elapsed": 2182,
     "status": "ok",
     "timestamp": 1600153859783,
     "user": {
      "displayName": "Minho Lee",
      "photoUrl": "https://lh3.googleusercontent.com/a-/AOh14Gj_XE-jWo5wCYVWIgZ7hcE7L2_mrlLN8GnkxoYTZQ=s64",
      "userId": "12588095538886834082"
     },
     "user_tz": -540
    },
    "id": "bBXXq8GIFwv_",
    "outputId": "afa69315-38fa-4b99-ed98-c2c5716c16c6"
   },
   "outputs": [
    {
     "name": "stdout",
     "output_type": "stream",
     "text": [
      "[[  6.    148.     72.    ...   0.627  50.      1.   ]\n",
      " [  1.     85.     66.    ...   0.351  31.      0.   ]\n",
      " [  8.    183.     64.    ...   0.672  32.      1.   ]\n",
      " ...\n",
      " [  5.    121.     72.    ...   0.245  30.      0.   ]\n",
      " [  1.    126.     60.    ...   0.349  47.      1.   ]\n",
      " [  1.     93.     70.    ...   0.315  23.      0.   ]]\n"
     ]
    }
   ],
   "source": [
    "print(data)"
   ]
  },
  {
   "cell_type": "code",
   "execution_count": 7,
   "metadata": {
    "colab": {},
    "colab_type": "code",
    "executionInfo": {
     "elapsed": 1956,
     "status": "ok",
     "timestamp": 1600153859784,
     "user": {
      "displayName": "Minho Lee",
      "photoUrl": "https://lh3.googleusercontent.com/a-/AOh14Gj_XE-jWo5wCYVWIgZ7hcE7L2_mrlLN8GnkxoYTZQ=s64",
      "userId": "12588095538886834082"
     },
     "user_tz": -540
    },
    "id": "s8fR44MjsEbz"
   },
   "outputs": [],
   "source": [
    "X = data[:,0:8]\n",
    "Y = data[:,8]"
   ]
  },
  {
   "cell_type": "code",
   "execution_count": 8,
   "metadata": {
    "colab": {
     "base_uri": "https://localhost:8080/",
     "height": 36
    },
    "colab_type": "code",
    "executionInfo": {
     "elapsed": 695,
     "status": "ok",
     "timestamp": 1600153859785,
     "user": {
      "displayName": "Minho Lee",
      "photoUrl": "https://lh3.googleusercontent.com/a-/AOh14Gj_XE-jWo5wCYVWIgZ7hcE7L2_mrlLN8GnkxoYTZQ=s64",
      "userId": "12588095538886834082"
     },
     "user_tz": -540
    },
    "id": "rrwc2l7rxIpw",
    "outputId": "379e31f8-806d-4a1c-b3da-929b66aa1c5f"
   },
   "outputs": [
    {
     "name": "stdout",
     "output_type": "stream",
     "text": [
      "(768, 8)\n"
     ]
    }
   ],
   "source": [
    "print(X.shape)"
   ]
  },
  {
   "cell_type": "code",
   "execution_count": 9,
   "metadata": {
    "colab": {
     "base_uri": "https://localhost:8080/",
     "height": 148
    },
    "colab_type": "code",
    "executionInfo": {
     "elapsed": 953,
     "status": "ok",
     "timestamp": 1600153860854,
     "user": {
      "displayName": "Minho Lee",
      "photoUrl": "https://lh3.googleusercontent.com/a-/AOh14Gj_XE-jWo5wCYVWIgZ7hcE7L2_mrlLN8GnkxoYTZQ=s64",
      "userId": "12588095538886834082"
     },
     "user_tz": -540
    },
    "id": "8Y2SntlXGTk7",
    "outputId": "2417fc0e-fb01-465b-fcf1-3cda1e637ba8"
   },
   "outputs": [
    {
     "name": "stdout",
     "output_type": "stream",
     "text": [
      "[[  6.    148.     72.    ...  33.6     0.627  50.   ]\n",
      " [  1.     85.     66.    ...  26.6     0.351  31.   ]\n",
      " [  8.    183.     64.    ...  23.3     0.672  32.   ]\n",
      " ...\n",
      " [  5.    121.     72.    ...  26.2     0.245  30.   ]\n",
      " [  1.    126.     60.    ...  30.1     0.349  47.   ]\n",
      " [  1.     93.     70.    ...  30.4     0.315  23.   ]]\n"
     ]
    }
   ],
   "source": [
    "print(X)"
   ]
  },
  {
   "cell_type": "code",
   "execution_count": 10,
   "metadata": {
    "colab": {
     "base_uri": "https://localhost:8080/",
     "height": 615
    },
    "colab_type": "code",
    "executionInfo": {
     "elapsed": 920,
     "status": "ok",
     "timestamp": 1600153861303,
     "user": {
      "displayName": "Minho Lee",
      "photoUrl": "https://lh3.googleusercontent.com/a-/AOh14Gj_XE-jWo5wCYVWIgZ7hcE7L2_mrlLN8GnkxoYTZQ=s64",
      "userId": "12588095538886834082"
     },
     "user_tz": -540
    },
    "id": "KPoXX-ckGX4h",
    "outputId": "9f63d579-51e6-4f6c-a9e2-7b143ba8eb2d"
   },
   "outputs": [
    {
     "name": "stdout",
     "output_type": "stream",
     "text": [
      "[1. 0. 1. 0. 1. 0. 1. 0. 1. 1. 0. 1. 0. 1. 1. 1. 1. 1. 0. 1. 0. 0. 1. 1.\n",
      " 1. 1. 1. 0. 0. 0. 0. 1. 0. 0. 0. 0. 0. 1. 1. 1. 0. 0. 0. 1. 0. 1. 0. 0.\n",
      " 1. 0. 0. 0. 0. 1. 0. 0. 1. 0. 0. 0. 0. 1. 0. 0. 1. 0. 1. 0. 0. 0. 1. 0.\n",
      " 1. 0. 0. 0. 0. 0. 1. 0. 0. 0. 0. 0. 1. 0. 0. 0. 1. 0. 0. 0. 0. 1. 0. 0.\n",
      " 0. 0. 0. 1. 1. 0. 0. 0. 0. 0. 0. 0. 0. 1. 1. 1. 0. 0. 1. 1. 1. 0. 0. 0.\n",
      " 1. 0. 0. 0. 1. 1. 0. 0. 1. 1. 1. 1. 1. 0. 0. 0. 0. 0. 0. 0. 0. 0. 0. 1.\n",
      " 0. 0. 0. 0. 0. 0. 0. 0. 1. 0. 1. 1. 0. 0. 0. 1. 0. 0. 0. 0. 1. 1. 0. 0.\n",
      " 0. 0. 1. 1. 0. 0. 0. 1. 0. 1. 0. 1. 0. 0. 0. 0. 0. 1. 1. 1. 1. 1. 0. 0.\n",
      " 1. 1. 0. 1. 0. 1. 1. 1. 0. 0. 0. 0. 0. 0. 1. 1. 0. 1. 0. 0. 0. 1. 1. 1.\n",
      " 1. 0. 1. 1. 1. 1. 0. 0. 0. 0. 0. 1. 0. 0. 1. 1. 0. 0. 0. 1. 1. 1. 1. 0.\n",
      " 0. 0. 1. 1. 0. 1. 0. 0. 0. 0. 0. 0. 0. 0. 1. 1. 0. 0. 0. 1. 0. 1. 0. 0.\n",
      " 1. 0. 1. 0. 0. 1. 1. 0. 0. 0. 0. 0. 1. 0. 0. 0. 1. 0. 0. 1. 1. 0. 0. 1.\n",
      " 0. 0. 0. 1. 1. 1. 0. 0. 1. 0. 1. 0. 1. 1. 0. 1. 0. 0. 1. 0. 1. 1. 0. 0.\n",
      " 1. 0. 1. 0. 0. 1. 0. 1. 0. 1. 1. 1. 0. 0. 1. 0. 1. 0. 0. 0. 1. 0. 0. 0.\n",
      " 0. 1. 1. 1. 0. 0. 0. 0. 0. 0. 0. 0. 0. 1. 0. 0. 0. 0. 0. 1. 1. 1. 0. 1.\n",
      " 1. 0. 0. 1. 0. 0. 1. 0. 0. 1. 1. 0. 0. 0. 0. 1. 0. 0. 1. 0. 0. 0. 0. 0.\n",
      " 0. 0. 1. 1. 1. 0. 0. 1. 0. 0. 1. 0. 0. 1. 0. 1. 1. 0. 1. 0. 1. 0. 1. 0.\n",
      " 1. 1. 0. 0. 0. 0. 1. 1. 0. 1. 0. 1. 0. 0. 0. 0. 1. 1. 0. 1. 0. 1. 0. 0.\n",
      " 0. 0. 0. 1. 0. 0. 0. 0. 1. 0. 0. 1. 1. 1. 0. 0. 1. 0. 0. 1. 0. 0. 0. 1.\n",
      " 0. 0. 1. 0. 0. 0. 0. 0. 0. 0. 0. 0. 1. 0. 0. 0. 0. 0. 0. 0. 1. 0. 0. 0.\n",
      " 1. 0. 0. 0. 1. 1. 0. 0. 0. 0. 0. 0. 0. 1. 0. 0. 0. 0. 1. 0. 0. 0. 1. 0.\n",
      " 0. 0. 1. 0. 0. 0. 1. 0. 0. 0. 0. 1. 1. 0. 0. 0. 0. 0. 0. 1. 0. 0. 0. 0.\n",
      " 0. 0. 0. 0. 0. 0. 0. 1. 0. 0. 0. 1. 1. 1. 1. 0. 0. 1. 1. 0. 0. 0. 0. 0.\n",
      " 0. 0. 0. 0. 0. 0. 0. 0. 1. 1. 0. 0. 0. 0. 0. 0. 0. 1. 0. 0. 0. 0. 0. 0.\n",
      " 0. 1. 0. 1. 1. 0. 0. 0. 1. 0. 1. 0. 1. 0. 1. 0. 1. 0. 0. 1. 0. 0. 1. 0.\n",
      " 0. 0. 0. 1. 1. 0. 1. 0. 0. 0. 0. 1. 1. 0. 1. 0. 0. 0. 1. 1. 0. 0. 0. 0.\n",
      " 0. 0. 0. 0. 0. 0. 1. 0. 0. 0. 0. 1. 0. 0. 1. 0. 0. 0. 1. 0. 0. 0. 1. 1.\n",
      " 1. 0. 0. 0. 0. 0. 0. 1. 0. 0. 0. 1. 0. 1. 1. 1. 1. 0. 1. 1. 0. 0. 0. 0.\n",
      " 0. 0. 0. 1. 1. 0. 1. 0. 0. 1. 0. 1. 0. 0. 0. 0. 0. 1. 0. 1. 0. 1. 0. 1.\n",
      " 1. 0. 0. 0. 0. 1. 1. 0. 0. 0. 1. 0. 1. 1. 0. 0. 1. 0. 0. 1. 1. 0. 0. 1.\n",
      " 0. 0. 1. 0. 0. 0. 0. 0. 0. 0. 1. 1. 1. 0. 0. 0. 0. 0. 0. 1. 1. 0. 0. 1.\n",
      " 0. 0. 1. 0. 1. 1. 1. 0. 0. 1. 1. 1. 0. 1. 0. 1. 0. 1. 0. 0. 0. 0. 1. 0.]\n"
     ]
    }
   ],
   "source": [
    "print(Y)"
   ]
  },
  {
   "cell_type": "code",
   "execution_count": 11,
   "metadata": {
    "colab": {},
    "colab_type": "code",
    "executionInfo": {
     "elapsed": 800,
     "status": "ok",
     "timestamp": 1600154012766,
     "user": {
      "displayName": "Minho Lee",
      "photoUrl": "https://lh3.googleusercontent.com/a-/AOh14Gj_XE-jWo5wCYVWIgZ7hcE7L2_mrlLN8GnkxoYTZQ=s64",
      "userId": "12588095538886834082"
     },
     "user_tz": -540
    },
    "id": "Nl1JOBc-sEb2"
   },
   "outputs": [],
   "source": [
    "model = Sequential()\n",
    "model.add(Dense(8, input_dim=8, activation='relu'))\n",
    "model.add(Dense(1, activation='sigmoid'))"
   ]
  },
  {
   "cell_type": "code",
   "execution_count": 12,
   "metadata": {
    "colab": {},
    "colab_type": "code",
    "executionInfo": {
     "elapsed": 640,
     "status": "ok",
     "timestamp": 1600154013208,
     "user": {
      "displayName": "Minho Lee",
      "photoUrl": "https://lh3.googleusercontent.com/a-/AOh14Gj_XE-jWo5wCYVWIgZ7hcE7L2_mrlLN8GnkxoYTZQ=s64",
      "userId": "12588095538886834082"
     },
     "user_tz": -540
    },
    "id": "6fs9TwcnsEb4"
   },
   "outputs": [
    {
     "name": "stdout",
     "output_type": "stream",
     "text": [
      "WARNING:tensorflow:From C:\\Users\\MSI\\anaconda3\\envs\\py36_tf114\\lib\\site-packages\\tensorflow\\python\\ops\\nn_impl.py:180: add_dispatch_support.<locals>.wrapper (from tensorflow.python.ops.array_ops) is deprecated and will be removed in a future version.\n",
      "Instructions for updating:\n",
      "Use tf.where in 2.0, which has the same broadcast rule as np.where\n"
     ]
    }
   ],
   "source": [
    "model.compile(loss='binary_crossentropy', optimizer='adam', metrics=['accuracy'])"
   ]
  },
  {
   "cell_type": "code",
   "execution_count": null,
   "metadata": {
    "colab": {},
    "colab_type": "code",
    "executionInfo": {
     "elapsed": 902,
     "status": "ok",
     "timestamp": 1600154013664,
     "user": {
      "displayName": "Minho Lee",
      "photoUrl": "https://lh3.googleusercontent.com/a-/AOh14Gj_XE-jWo5wCYVWIgZ7hcE7L2_mrlLN8GnkxoYTZQ=s64",
      "userId": "12588095538886834082"
     },
     "user_tz": -540
    },
    "id": "fbcEQ2CWeFnL"
   },
   "outputs": [],
   "source": []
  },
  {
   "cell_type": "code",
   "execution_count": 21,
   "metadata": {
    "colab": {
     "base_uri": "https://localhost:8080/",
     "height": 1000
    },
    "colab_type": "code",
    "executionInfo": {
     "elapsed": 16355,
     "status": "ok",
     "timestamp": 1600154029264,
     "user": {
      "displayName": "Minho Lee",
      "photoUrl": "https://lh3.googleusercontent.com/a-/AOh14Gj_XE-jWo5wCYVWIgZ7hcE7L2_mrlLN8GnkxoYTZQ=s64",
      "userId": "12588095538886834082"
     },
     "user_tz": -540
    },
    "id": "jI04NpTSsEb7",
    "outputId": "1023c057-1f1b-4498-9fcf-5186820884e3"
   },
   "outputs": [
    {
     "name": "stdout",
     "output_type": "stream",
     "text": [
      "Epoch 1/200\n",
      "77/77 [==============================] - 0s 1ms/step - loss: 3.4403 - accuracy: 0.4987\n",
      "Epoch 2/200\n",
      "77/77 [==============================] - 0s 927us/step - loss: 1.8664 - accuracy: 0.4779\n",
      "Epoch 3/200\n",
      "77/77 [==============================] - 0s 863us/step - loss: 1.5381 - accuracy: 0.5078\n",
      "Epoch 4/200\n",
      "77/77 [==============================] - 0s 926us/step - loss: 1.3230 - accuracy: 0.5299\n",
      "Epoch 5/200\n",
      "77/77 [==============================] - 0s 1ms/step - loss: 1.1332 - accuracy: 0.5404\n",
      "Epoch 6/200\n",
      "77/77 [==============================] - 0s 929us/step - loss: 0.9905 - accuracy: 0.5612\n",
      "Epoch 7/200\n",
      "77/77 [==============================] - 0s 866us/step - loss: 0.8997 - accuracy: 0.5755\n",
      "Epoch 8/200\n",
      "77/77 [==============================] - 0s 911us/step - loss: 0.8149 - accuracy: 0.5977\n",
      "Epoch 9/200\n",
      "77/77 [==============================] - 0s 1ms/step - loss: 0.7772 - accuracy: 0.6133\n",
      "Epoch 10/200\n",
      "77/77 [==============================] - 0s 876us/step - loss: 0.7301 - accuracy: 0.6341\n",
      "Epoch 11/200\n",
      "77/77 [==============================] - 0s 815us/step - loss: 0.7039 - accuracy: 0.6510\n",
      "Epoch 12/200\n",
      "77/77 [==============================] - 0s 960us/step - loss: 0.6877 - accuracy: 0.6536\n",
      "Epoch 13/200\n",
      "77/77 [==============================] - 0s 1ms/step - loss: 0.6685 - accuracy: 0.6576\n",
      "Epoch 14/200\n",
      "77/77 [==============================] - 0s 932us/step - loss: 0.6528 - accuracy: 0.6654\n",
      "Epoch 15/200\n",
      "77/77 [==============================] - 0s 995us/step - loss: 0.6445 - accuracy: 0.6810\n",
      "Epoch 16/200\n",
      "77/77 [==============================] - 0s 922us/step - loss: 0.6449 - accuracy: 0.6719\n",
      "Epoch 17/200\n",
      "77/77 [==============================] - 0s 959us/step - loss: 0.6369 - accuracy: 0.6654\n",
      "Epoch 18/200\n",
      "77/77 [==============================] - 0s 952us/step - loss: 0.6262 - accuracy: 0.6706\n",
      "Epoch 19/200\n",
      "77/77 [==============================] - 0s 995us/step - loss: 0.6127 - accuracy: 0.6966\n",
      "Epoch 20/200\n",
      "77/77 [==============================] - 0s 976us/step - loss: 0.6247 - accuracy: 0.6771\n",
      "Epoch 21/200\n",
      "77/77 [==============================] - 0s 1ms/step - loss: 0.5969 - accuracy: 0.6979\n",
      "Epoch 22/200\n",
      "77/77 [==============================] - 0s 977us/step - loss: 0.6007 - accuracy: 0.6914\n",
      "Epoch 23/200\n",
      "77/77 [==============================] - 0s 961us/step - loss: 0.5992 - accuracy: 0.6953\n",
      "Epoch 24/200\n",
      "77/77 [==============================] - 0s 1ms/step - loss: 0.5942 - accuracy: 0.7018\n",
      "Epoch 25/200\n",
      "77/77 [==============================] - 0s 1ms/step - loss: 0.5946 - accuracy: 0.7070\n",
      "Epoch 26/200\n",
      "77/77 [==============================] - 0s 929us/step - loss: 0.5875 - accuracy: 0.7083\n",
      "Epoch 27/200\n",
      "77/77 [==============================] - 0s 884us/step - loss: 0.5886 - accuracy: 0.7096\n",
      "Epoch 28/200\n",
      "77/77 [==============================] - 0s 850us/step - loss: 0.5884 - accuracy: 0.7070\n",
      "Epoch 29/200\n",
      "77/77 [==============================] - 0s 910us/step - loss: 0.5889 - accuracy: 0.7018\n",
      "Epoch 30/200\n",
      "77/77 [==============================] - 0s 837us/step - loss: 0.5904 - accuracy: 0.7096\n",
      "Epoch 31/200\n",
      "77/77 [==============================] - 0s 897us/step - loss: 0.5820 - accuracy: 0.7057\n",
      "Epoch 32/200\n",
      "77/77 [==============================] - 0s 851us/step - loss: 0.5857 - accuracy: 0.7135\n",
      "Epoch 33/200\n",
      "77/77 [==============================] - 0s 906us/step - loss: 0.5877 - accuracy: 0.7148\n",
      "Epoch 34/200\n",
      "77/77 [==============================] - 0s 922us/step - loss: 0.5839 - accuracy: 0.6992\n",
      "Epoch 35/200\n",
      "77/77 [==============================] - 0s 948us/step - loss: 0.5792 - accuracy: 0.7135\n",
      "Epoch 36/200\n",
      "77/77 [==============================] - 0s 866us/step - loss: 0.5725 - accuracy: 0.7253\n",
      "Epoch 37/200\n",
      "77/77 [==============================] - 0s 975us/step - loss: 0.5787 - accuracy: 0.7031\n",
      "Epoch 38/200\n",
      "77/77 [==============================] - 0s 1ms/step - loss: 0.5622 - accuracy: 0.7201\n",
      "Epoch 39/200\n",
      "77/77 [==============================] - 0s 943us/step - loss: 0.5750 - accuracy: 0.7148\n",
      "Epoch 40/200\n",
      "77/77 [==============================] - 0s 840us/step - loss: 0.5724 - accuracy: 0.7188\n",
      "Epoch 41/200\n",
      "77/77 [==============================] - 0s 863us/step - loss: 0.5796 - accuracy: 0.7135\n",
      "Epoch 42/200\n",
      "77/77 [==============================] - 0s 921us/step - loss: 0.5879 - accuracy: 0.7031\n",
      "Epoch 43/200\n",
      "77/77 [==============================] - 0s 844us/step - loss: 0.5780 - accuracy: 0.7148\n",
      "Epoch 44/200\n",
      "77/77 [==============================] - 0s 903us/step - loss: 0.5708 - accuracy: 0.7161\n",
      "Epoch 45/200\n",
      "77/77 [==============================] - 0s 876us/step - loss: 0.5975 - accuracy: 0.6940\n",
      "Epoch 46/200\n",
      "77/77 [==============================] - 0s 931us/step - loss: 0.5748 - accuracy: 0.7214\n",
      "Epoch 47/200\n",
      "77/77 [==============================] - 0s 869us/step - loss: 0.5826 - accuracy: 0.6862\n",
      "Epoch 48/200\n",
      "77/77 [==============================] - 0s 935us/step - loss: 0.5656 - accuracy: 0.7148\n",
      "Epoch 49/200\n",
      "77/77 [==============================] - 0s 928us/step - loss: 0.5688 - accuracy: 0.7227\n",
      "Epoch 50/200\n",
      "77/77 [==============================] - 0s 1ms/step - loss: 0.5673 - accuracy: 0.7201\n",
      "Epoch 51/200\n",
      "77/77 [==============================] - 0s 938us/step - loss: 0.5712 - accuracy: 0.7174\n",
      "Epoch 52/200\n",
      "77/77 [==============================] - 0s 973us/step - loss: 0.5641 - accuracy: 0.7318\n",
      "Epoch 53/200\n",
      "77/77 [==============================] - 0s 932us/step - loss: 0.5737 - accuracy: 0.7109\n",
      "Epoch 54/200\n",
      "77/77 [==============================] - 0s 931us/step - loss: 0.5629 - accuracy: 0.7240\n",
      "Epoch 55/200\n",
      "77/77 [==============================] - 0s 858us/step - loss: 0.5534 - accuracy: 0.7357\n",
      "Epoch 56/200\n",
      "77/77 [==============================] - 0s 836us/step - loss: 0.5732 - accuracy: 0.7188\n",
      "Epoch 57/200\n",
      "77/77 [==============================] - 0s 969us/step - loss: 0.5522 - accuracy: 0.7357\n",
      "Epoch 58/200\n",
      "77/77 [==============================] - 0s 1ms/step - loss: 0.5574 - accuracy: 0.7292\n",
      "Epoch 59/200\n",
      "77/77 [==============================] - 0s 950us/step - loss: 0.5520 - accuracy: 0.7357\n",
      "Epoch 60/200\n",
      "77/77 [==============================] - 0s 891us/step - loss: 0.5530 - accuracy: 0.7331\n",
      "Epoch 61/200\n",
      "77/77 [==============================] - 0s 928us/step - loss: 0.5554 - accuracy: 0.7357\n",
      "Epoch 62/200\n",
      "77/77 [==============================] - 0s 883us/step - loss: 0.5570 - accuracy: 0.7370\n",
      "Epoch 63/200\n",
      "77/77 [==============================] - 0s 883us/step - loss: 0.5597 - accuracy: 0.7109\n",
      "Epoch 64/200\n",
      "77/77 [==============================] - 0s 899us/step - loss: 0.5623 - accuracy: 0.7201\n",
      "Epoch 65/200\n",
      "77/77 [==============================] - 0s 949us/step - loss: 0.5511 - accuracy: 0.7266\n",
      "Epoch 66/200\n",
      "77/77 [==============================] - 0s 903us/step - loss: 0.5568 - accuracy: 0.7201\n",
      "Epoch 67/200\n",
      "77/77 [==============================] - 0s 862us/step - loss: 0.5469 - accuracy: 0.7383\n",
      "Epoch 68/200\n",
      "77/77 [==============================] - 0s 874us/step - loss: 0.5493 - accuracy: 0.7253\n",
      "Epoch 69/200\n",
      "77/77 [==============================] - 0s 884us/step - loss: 0.5460 - accuracy: 0.7344\n",
      "Epoch 70/200\n",
      "77/77 [==============================] - 0s 902us/step - loss: 0.5521 - accuracy: 0.7305\n",
      "Epoch 71/200\n",
      "77/77 [==============================] - 0s 857us/step - loss: 0.5463 - accuracy: 0.7279\n",
      "Epoch 72/200\n",
      "77/77 [==============================] - 0s 858us/step - loss: 0.5531 - accuracy: 0.7266\n",
      "Epoch 73/200\n",
      "77/77 [==============================] - 0s 896us/step - loss: 0.5492 - accuracy: 0.7357\n",
      "Epoch 74/200\n",
      "77/77 [==============================] - 0s 877us/step - loss: 0.5510 - accuracy: 0.7305\n",
      "Epoch 75/200\n",
      "77/77 [==============================] - 0s 841us/step - loss: 0.5488 - accuracy: 0.7318\n",
      "Epoch 76/200\n",
      "77/77 [==============================] - 0s 832us/step - loss: 0.5471 - accuracy: 0.7370\n",
      "Epoch 77/200\n",
      "77/77 [==============================] - 0s 1ms/step - loss: 0.5501 - accuracy: 0.7292\n",
      "Epoch 78/200\n",
      "77/77 [==============================] - 0s 885us/step - loss: 0.5444 - accuracy: 0.7305\n",
      "Epoch 79/200\n",
      "77/77 [==============================] - 0s 1ms/step - loss: 0.5560 - accuracy: 0.7357\n",
      "Epoch 80/200\n",
      "77/77 [==============================] - 0s 957us/step - loss: 0.5410 - accuracy: 0.7305\n",
      "Epoch 81/200\n",
      "77/77 [==============================] - 0s 894us/step - loss: 0.5443 - accuracy: 0.7305\n",
      "Epoch 82/200\n",
      "77/77 [==============================] - 0s 885us/step - loss: 0.5456 - accuracy: 0.7253\n",
      "Epoch 83/200\n",
      "77/77 [==============================] - 0s 846us/step - loss: 0.5404 - accuracy: 0.7357\n",
      "Epoch 84/200\n",
      "77/77 [==============================] - 0s 989us/step - loss: 0.5399 - accuracy: 0.7357\n",
      "Epoch 85/200\n",
      "77/77 [==============================] - 0s 919us/step - loss: 0.5395 - accuracy: 0.7396\n",
      "Epoch 86/200\n",
      "77/77 [==============================] - 0s 948us/step - loss: 0.5578 - accuracy: 0.7174\n",
      "Epoch 87/200\n",
      "77/77 [==============================] - 0s 867us/step - loss: 0.5517 - accuracy: 0.7083\n",
      "Epoch 88/200\n",
      "77/77 [==============================] - 0s 948us/step - loss: 0.5454 - accuracy: 0.7383\n",
      "Epoch 89/200\n",
      "77/77 [==============================] - 0s 862us/step - loss: 0.5404 - accuracy: 0.7383\n",
      "Epoch 90/200\n",
      "77/77 [==============================] - 0s 941us/step - loss: 0.5372 - accuracy: 0.7174\n",
      "Epoch 91/200\n",
      "77/77 [==============================] - 0s 876us/step - loss: 0.5432 - accuracy: 0.7331\n",
      "Epoch 92/200\n",
      "77/77 [==============================] - 0s 954us/step - loss: 0.5470 - accuracy: 0.7305\n",
      "Epoch 93/200\n",
      "77/77 [==============================] - 0s 854us/step - loss: 0.5326 - accuracy: 0.7396\n",
      "Epoch 94/200\n",
      "77/77 [==============================] - 0s 939us/step - loss: 0.5323 - accuracy: 0.7370\n",
      "Epoch 95/200\n",
      "77/77 [==============================] - 0s 880us/step - loss: 0.5298 - accuracy: 0.7422\n",
      "Epoch 96/200\n",
      "77/77 [==============================] - 0s 842us/step - loss: 0.5329 - accuracy: 0.7383\n",
      "Epoch 97/200\n",
      "77/77 [==============================] - 0s 879us/step - loss: 0.5348 - accuracy: 0.7331\n",
      "Epoch 98/200\n",
      "77/77 [==============================] - 0s 877us/step - loss: 0.5330 - accuracy: 0.7396\n",
      "Epoch 99/200\n",
      "77/77 [==============================] - 0s 881us/step - loss: 0.5406 - accuracy: 0.7214\n",
      "Epoch 100/200\n",
      "77/77 [==============================] - 0s 826us/step - loss: 0.5491 - accuracy: 0.7096\n",
      "Epoch 101/200\n",
      "77/77 [==============================] - 0s 874us/step - loss: 0.5361 - accuracy: 0.7344\n",
      "Epoch 102/200\n",
      "77/77 [==============================] - 0s 925us/step - loss: 0.5444 - accuracy: 0.7318\n",
      "Epoch 103/200\n",
      "77/77 [==============================] - 0s 929us/step - loss: 0.5246 - accuracy: 0.7435\n",
      "Epoch 104/200\n",
      "77/77 [==============================] - 0s 974us/step - loss: 0.5439 - accuracy: 0.7305\n",
      "Epoch 105/200\n",
      "77/77 [==============================] - 0s 864us/step - loss: 0.5422 - accuracy: 0.7448\n",
      "Epoch 106/200\n",
      "77/77 [==============================] - 0s 921us/step - loss: 0.5263 - accuracy: 0.7539\n",
      "Epoch 107/200\n",
      "77/77 [==============================] - 0s 927us/step - loss: 0.5276 - accuracy: 0.7422\n",
      "Epoch 108/200\n",
      "77/77 [==============================] - 0s 892us/step - loss: 0.5277 - accuracy: 0.7331\n",
      "Epoch 109/200\n",
      "77/77 [==============================] - 0s 870us/step - loss: 0.5213 - accuracy: 0.7461\n",
      "Epoch 110/200\n",
      "77/77 [==============================] - 0s 836us/step - loss: 0.5235 - accuracy: 0.7396\n",
      "Epoch 111/200\n",
      "77/77 [==============================] - 0s 905us/step - loss: 0.5323 - accuracy: 0.7344\n",
      "Epoch 112/200\n",
      "77/77 [==============================] - 0s 825us/step - loss: 0.5194 - accuracy: 0.7487\n",
      "Epoch 113/200\n",
      "77/77 [==============================] - 0s 888us/step - loss: 0.5266 - accuracy: 0.7513\n",
      "Epoch 114/200\n",
      "77/77 [==============================] - 0s 875us/step - loss: 0.5265 - accuracy: 0.7422\n",
      "Epoch 115/200\n",
      "77/77 [==============================] - 0s 1ms/step - loss: 0.5353 - accuracy: 0.7344\n",
      "Epoch 116/200\n",
      "77/77 [==============================] - 0s 998us/step - loss: 0.5206 - accuracy: 0.7461\n",
      "Epoch 117/200\n",
      "77/77 [==============================] - 0s 951us/step - loss: 0.5213 - accuracy: 0.7565\n",
      "Epoch 118/200\n",
      "77/77 [==============================] - 0s 866us/step - loss: 0.5334 - accuracy: 0.7409\n",
      "Epoch 119/200\n",
      "77/77 [==============================] - 0s 1ms/step - loss: 0.5182 - accuracy: 0.7383\n",
      "Epoch 120/200\n",
      "77/77 [==============================] - 0s 848us/step - loss: 0.5207 - accuracy: 0.7409\n",
      "Epoch 121/200\n",
      "77/77 [==============================] - 0s 858us/step - loss: 0.5227 - accuracy: 0.7448\n",
      "Epoch 122/200\n",
      "77/77 [==============================] - 0s 851us/step - loss: 0.5207 - accuracy: 0.7565\n",
      "Epoch 123/200\n",
      "77/77 [==============================] - 0s 884us/step - loss: 0.5251 - accuracy: 0.7500\n",
      "Epoch 124/200\n",
      "77/77 [==============================] - 0s 903us/step - loss: 0.5214 - accuracy: 0.7448\n",
      "Epoch 125/200\n",
      "77/77 [==============================] - 0s 869us/step - loss: 0.5221 - accuracy: 0.7370\n",
      "Epoch 126/200\n",
      "77/77 [==============================] - 0s 844us/step - loss: 0.5247 - accuracy: 0.7396\n",
      "Epoch 127/200\n",
      "77/77 [==============================] - 0s 868us/step - loss: 0.5256 - accuracy: 0.7526\n",
      "Epoch 128/200\n",
      "77/77 [==============================] - 0s 866us/step - loss: 0.5235 - accuracy: 0.7617\n",
      "Epoch 129/200\n",
      "77/77 [==============================] - 0s 880us/step - loss: 0.5172 - accuracy: 0.7396\n",
      "Epoch 130/200\n",
      "77/77 [==============================] - 0s 977us/step - loss: 0.5250 - accuracy: 0.7474\n",
      "Epoch 131/200\n",
      "77/77 [==============================] - 0s 1ms/step - loss: 0.5222 - accuracy: 0.7474\n",
      "Epoch 132/200\n",
      "77/77 [==============================] - 0s 939us/step - loss: 0.5184 - accuracy: 0.7500\n",
      "Epoch 133/200\n",
      "77/77 [==============================] - 0s 1ms/step - loss: 0.5200 - accuracy: 0.7500\n",
      "Epoch 134/200\n",
      "77/77 [==============================] - 0s 870us/step - loss: 0.5122 - accuracy: 0.7526\n",
      "Epoch 135/200\n",
      "77/77 [==============================] - 0s 857us/step - loss: 0.5153 - accuracy: 0.7708\n",
      "Epoch 136/200\n",
      "77/77 [==============================] - 0s 888us/step - loss: 0.5124 - accuracy: 0.7656\n",
      "Epoch 137/200\n",
      "77/77 [==============================] - 0s 1ms/step - loss: 0.5090 - accuracy: 0.7578\n",
      "Epoch 138/200\n",
      "77/77 [==============================] - 0s 910us/step - loss: 0.5115 - accuracy: 0.7500\n",
      "Epoch 139/200\n",
      "77/77 [==============================] - 0s 917us/step - loss: 0.5285 - accuracy: 0.7539\n",
      "Epoch 140/200\n",
      "77/77 [==============================] - 0s 887us/step - loss: 0.5114 - accuracy: 0.7578\n",
      "Epoch 141/200\n",
      "77/77 [==============================] - 0s 965us/step - loss: 0.5075 - accuracy: 0.7617\n",
      "Epoch 142/200\n",
      "77/77 [==============================] - 0s 864us/step - loss: 0.5245 - accuracy: 0.7448\n",
      "Epoch 143/200\n",
      "77/77 [==============================] - 0s 928us/step - loss: 0.5071 - accuracy: 0.7422\n",
      "Epoch 144/200\n",
      "77/77 [==============================] - 0s 939us/step - loss: 0.5105 - accuracy: 0.7474\n",
      "Epoch 145/200\n",
      "77/77 [==============================] - 0s 883us/step - loss: 0.5097 - accuracy: 0.7591\n",
      "Epoch 146/200\n",
      "77/77 [==============================] - 0s 962us/step - loss: 0.5002 - accuracy: 0.7630\n",
      "Epoch 147/200\n",
      "77/77 [==============================] - 0s 956us/step - loss: 0.5114 - accuracy: 0.7578\n",
      "Epoch 148/200\n",
      "77/77 [==============================] - 0s 895us/step - loss: 0.5046 - accuracy: 0.7604\n",
      "Epoch 149/200\n",
      "77/77 [==============================] - 0s 833us/step - loss: 0.5137 - accuracy: 0.7409\n",
      "Epoch 150/200\n",
      "77/77 [==============================] - 0s 842us/step - loss: 0.5084 - accuracy: 0.7565\n",
      "Epoch 151/200\n",
      "77/77 [==============================] - 0s 848us/step - loss: 0.5115 - accuracy: 0.7565\n",
      "Epoch 152/200\n",
      "77/77 [==============================] - 0s 948us/step - loss: 0.5088 - accuracy: 0.7656\n",
      "Epoch 153/200\n",
      "77/77 [==============================] - 0s 857us/step - loss: 0.5098 - accuracy: 0.7604\n",
      "Epoch 154/200\n",
      "77/77 [==============================] - 0s 842us/step - loss: 0.5038 - accuracy: 0.7669\n",
      "Epoch 155/200\n",
      "77/77 [==============================] - 0s 853us/step - loss: 0.5131 - accuracy: 0.7552\n",
      "Epoch 156/200\n",
      "77/77 [==============================] - 0s 959us/step - loss: 0.5028 - accuracy: 0.7487\n",
      "Epoch 157/200\n",
      "77/77 [==============================] - 0s 897us/step - loss: 0.5133 - accuracy: 0.7526\n",
      "Epoch 158/200\n",
      "77/77 [==============================] - 0s 1ms/step - loss: 0.5023 - accuracy: 0.7617\n",
      "Epoch 159/200\n",
      "77/77 [==============================] - 0s 1ms/step - loss: 0.5076 - accuracy: 0.7604\n",
      "Epoch 160/200\n",
      "77/77 [==============================] - 0s 975us/step - loss: 0.5122 - accuracy: 0.7331\n",
      "Epoch 161/200\n",
      "77/77 [==============================] - 0s 899us/step - loss: 0.4982 - accuracy: 0.7565\n",
      "Epoch 162/200\n",
      "77/77 [==============================] - 0s 850us/step - loss: 0.5021 - accuracy: 0.7565\n",
      "Epoch 163/200\n",
      "77/77 [==============================] - 0s 858us/step - loss: 0.5075 - accuracy: 0.7578\n",
      "Epoch 164/200\n",
      "77/77 [==============================] - 0s 899us/step - loss: 0.4991 - accuracy: 0.7539\n",
      "Epoch 165/200\n",
      "77/77 [==============================] - 0s 865us/step - loss: 0.5033 - accuracy: 0.7721\n",
      "Epoch 166/200\n",
      "77/77 [==============================] - 0s 861us/step - loss: 0.4986 - accuracy: 0.7695\n",
      "Epoch 167/200\n",
      "77/77 [==============================] - 0s 855us/step - loss: 0.4992 - accuracy: 0.7604\n",
      "Epoch 168/200\n",
      "77/77 [==============================] - 0s 881us/step - loss: 0.5104 - accuracy: 0.7565\n",
      "Epoch 169/200\n",
      "77/77 [==============================] - 0s 848us/step - loss: 0.4989 - accuracy: 0.7630\n",
      "Epoch 170/200\n",
      "77/77 [==============================] - 0s 919us/step - loss: 0.4991 - accuracy: 0.7630\n",
      "Epoch 171/200\n",
      "77/77 [==============================] - 0s 929us/step - loss: 0.5013 - accuracy: 0.7500\n",
      "Epoch 172/200\n",
      "77/77 [==============================] - 0s 955us/step - loss: 0.5003 - accuracy: 0.7474\n",
      "Epoch 173/200\n",
      "77/77 [==============================] - 0s 1ms/step - loss: 0.5048 - accuracy: 0.7656\n",
      "Epoch 174/200\n",
      "77/77 [==============================] - 0s 868us/step - loss: 0.4887 - accuracy: 0.7643\n",
      "Epoch 175/200\n",
      "77/77 [==============================] - 0s 838us/step - loss: 0.5080 - accuracy: 0.7643\n",
      "Epoch 176/200\n",
      "77/77 [==============================] - 0s 845us/step - loss: 0.5029 - accuracy: 0.7565\n",
      "Epoch 177/200\n",
      "77/77 [==============================] - 0s 866us/step - loss: 0.5014 - accuracy: 0.7552\n",
      "Epoch 178/200\n",
      "77/77 [==============================] - 0s 884us/step - loss: 0.4963 - accuracy: 0.7539\n",
      "Epoch 179/200\n",
      "77/77 [==============================] - 0s 883us/step - loss: 0.4939 - accuracy: 0.7643\n",
      "Epoch 180/200\n",
      "77/77 [==============================] - 0s 853us/step - loss: 0.4928 - accuracy: 0.7695\n",
      "Epoch 181/200\n",
      "77/77 [==============================] - 0s 887us/step - loss: 0.4976 - accuracy: 0.7513\n",
      "Epoch 182/200\n",
      "77/77 [==============================] - 0s 975us/step - loss: 0.4918 - accuracy: 0.7630\n",
      "Epoch 183/200\n",
      "77/77 [==============================] - 0s 881us/step - loss: 0.4893 - accuracy: 0.7656\n",
      "Epoch 184/200\n",
      "77/77 [==============================] - 0s 953us/step - loss: 0.4978 - accuracy: 0.7604\n",
      "Epoch 185/200\n",
      "77/77 [==============================] - 0s 975us/step - loss: 0.4991 - accuracy: 0.7669\n",
      "Epoch 186/200\n",
      "77/77 [==============================] - 0s 1ms/step - loss: 0.5010 - accuracy: 0.7630\n",
      "Epoch 187/200\n",
      "77/77 [==============================] - 0s 887us/step - loss: 0.4944 - accuracy: 0.7695\n",
      "Epoch 188/200\n",
      "77/77 [==============================] - 0s 894us/step - loss: 0.5007 - accuracy: 0.7487\n",
      "Epoch 189/200\n",
      "77/77 [==============================] - 0s 875us/step - loss: 0.5129 - accuracy: 0.7461\n",
      "Epoch 190/200\n",
      "77/77 [==============================] - 0s 912us/step - loss: 0.4950 - accuracy: 0.7565\n",
      "Epoch 191/200\n",
      "77/77 [==============================] - 0s 927us/step - loss: 0.4902 - accuracy: 0.7604\n",
      "Epoch 192/200\n",
      "77/77 [==============================] - 0s 928us/step - loss: 0.4949 - accuracy: 0.7565\n",
      "Epoch 193/200\n",
      "77/77 [==============================] - 0s 874us/step - loss: 0.4977 - accuracy: 0.7617\n",
      "Epoch 194/200\n",
      "77/77 [==============================] - 0s 838us/step - loss: 0.4947 - accuracy: 0.7617\n",
      "Epoch 195/200\n",
      "77/77 [==============================] - 0s 880us/step - loss: 0.4858 - accuracy: 0.7643\n",
      "Epoch 196/200\n",
      "77/77 [==============================] - 0s 940us/step - loss: 0.4920 - accuracy: 0.7708\n",
      "Epoch 197/200\n",
      "77/77 [==============================] - 0s 920us/step - loss: 0.5019 - accuracy: 0.7604\n",
      "Epoch 198/200\n",
      "77/77 [==============================] - 0s 889us/step - loss: 0.4926 - accuracy: 0.7734\n",
      "Epoch 199/200\n",
      "77/77 [==============================] - 0s 883us/step - loss: 0.4919 - accuracy: 0.7526\n",
      "Epoch 200/200\n",
      "77/77 [==============================] - 0s 1ms/step - loss: 0.4852 - accuracy: 0.7747\n"
     ]
    },
    {
     "data": {
      "text/plain": [
       "<tensorflow.python.keras.callbacks.History at 0x7fa9e12be668>"
      ]
     },
     "execution_count": 21,
     "metadata": {
      "tags": []
     },
     "output_type": "execute_result"
    }
   ],
   "source": [
    "model.fit(X, Y, epochs=200, batch_size=10)"
   ]
  },
  {
   "cell_type": "code",
   "execution_count": 22,
   "metadata": {
    "colab": {
     "base_uri": "https://localhost:8080/",
     "height": 93
    },
    "colab_type": "code",
    "executionInfo": {
     "elapsed": 16196,
     "status": "ok",
     "timestamp": 1600154029267,
     "user": {
      "displayName": "Minho Lee",
      "photoUrl": "https://lh3.googleusercontent.com/a-/AOh14Gj_XE-jWo5wCYVWIgZ7hcE7L2_mrlLN8GnkxoYTZQ=s64",
      "userId": "12588095538886834082"
     },
     "user_tz": -540
    },
    "id": "pwlQ-Jg0sEb-",
    "outputId": "72dedd1f-ee26-4434-df80-9429fe606209"
   },
   "outputs": [
    {
     "name": "stdout",
     "output_type": "stream",
     "text": [
      "24/24 [==============================] - 0s 863us/step - loss: 0.5344 - accuracy: 0.7474\n",
      "\n",
      "accuracy: 74.74%\n"
     ]
    }
   ],
   "source": [
    "scores = model.evaluate(X, Y)\n",
    "print(\"\\n%s: %.2f%%\" % (model.metrics_names[1], scores[1]*100))"
   ]
  },
  {
   "cell_type": "code",
   "execution_count": 22,
   "metadata": {
    "colab": {},
    "colab_type": "code",
    "executionInfo": {
     "elapsed": 16065,
     "status": "ok",
     "timestamp": 1600154029269,
     "user": {
      "displayName": "Minho Lee",
      "photoUrl": "https://lh3.googleusercontent.com/a-/AOh14Gj_XE-jWo5wCYVWIgZ7hcE7L2_mrlLN8GnkxoYTZQ=s64",
      "userId": "12588095538886834082"
     },
     "user_tz": -540
    },
    "id": "lsBuPcN2sEcC"
   },
   "outputs": [],
   "source": []
  }
 ],
 "metadata": {
  "colab": {
   "collapsed_sections": [],
   "name": "Pima1-SimpleModel-2LayerNeuron.ipynb",
   "provenance": [
    {
     "file_id": "1q7u1dHXe0p44-ebRlnMmPM-tRmZwWpCD",
     "timestamp": 1598842965472
    }
   ]
  },
  "kernelspec": {
   "display_name": "Python 3",
   "language": "python",
   "name": "python3"
  },
  "language_info": {
   "codemirror_mode": {
    "name": "ipython",
    "version": 3
   },
   "file_extension": ".py",
   "mimetype": "text/x-python",
   "name": "python",
   "nbconvert_exporter": "python",
   "pygments_lexer": "ipython3",
   "version": "3.6.12"
  }
 },
 "nbformat": 4,
 "nbformat_minor": 1
}
