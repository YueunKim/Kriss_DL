{
 "cells": [
  {
   "cell_type": "code",
   "execution_count": null,
   "metadata": {
    "colab": {
     "base_uri": "https://localhost:8080/",
     "height": 336
    },
    "colab_type": "code",
    "executionInfo": {
     "elapsed": 34267,
     "status": "ok",
     "timestamp": 1597736028990,
     "user": {
      "displayName": "Minho Lee",
      "photoUrl": "https://lh3.googleusercontent.com/a-/AOh14Gj_XE-jWo5wCYVWIgZ7hcE7L2_mrlLN8GnkxoYTZQ=s64",
      "userId": "12588095538886834082"
     },
     "user_tz": -540
    },
    "id": "Q5v43IDx3_l3",
    "outputId": "268c37ea-443f-4cbb-9256-52bca53af2a9"
   },
   "outputs": [],
   "source": [
    "# 필요 모듈 임포트\n",
    "from keras.models import Sequential\n",
    "from keras.layers import Dense\n",
    "from sklearn.model_selection import StratifiedKFold\n",
    "import numpy"
   ]
  },
  {
   "cell_type": "code",
   "execution_count": null,
   "metadata": {
    "colab": {
     "base_uri": "https://localhost:8080/",
     "height": 336
    },
    "colab_type": "code",
    "executionInfo": {
     "elapsed": 34267,
     "status": "ok",
     "timestamp": 1597736028990,
     "user": {
      "displayName": "Minho Lee",
      "photoUrl": "https://lh3.googleusercontent.com/a-/AOh14Gj_XE-jWo5wCYVWIgZ7hcE7L2_mrlLN8GnkxoYTZQ=s64",
      "userId": "12588095538886834082"
     },
     "user_tz": -540
    },
    "id": "Q5v43IDx3_l3",
    "outputId": "268c37ea-443f-4cbb-9256-52bca53af2a9"
   },
   "outputs": [],
   "source": [
    "# 랜덤시드\n",
    "seed = 123\n",
    "numpy.random.seed(seed)"
   ]
  },
  {
   "cell_type": "code",
   "execution_count": null,
   "metadata": {
    "colab": {
     "base_uri": "https://localhost:8080/",
     "height": 336
    },
    "colab_type": "code",
    "executionInfo": {
     "elapsed": 34267,
     "status": "ok",
     "timestamp": 1597736028990,
     "user": {
      "displayName": "Minho Lee",
      "photoUrl": "https://lh3.googleusercontent.com/a-/AOh14Gj_XE-jWo5wCYVWIgZ7hcE7L2_mrlLN8GnkxoYTZQ=s64",
      "userId": "12588095538886834082"
     },
     "user_tz": -540
    },
    "id": "Q5v43IDx3_l3",
    "outputId": "268c37ea-443f-4cbb-9256-52bca53af2a9"
   },
   "outputs": [],
   "source": [
    "# 데이터 로드\n",
    "data = numpy.loadtxt(\"/content/Pima_diabets_dataset.csv\", delimiter=\",\", skiprows=1)\n",
    "\n",
    "# 입력 값과 출력 값 분리\n",
    "X = data[:,0:8]\n",
    "Y = data[:,8]"
   ]
  },
  {
   "cell_type": "code",
   "execution_count": null,
   "metadata": {
    "colab": {
     "base_uri": "https://localhost:8080/",
     "height": 336
    },
    "colab_type": "code",
    "executionInfo": {
     "elapsed": 34267,
     "status": "ok",
     "timestamp": 1597736028990,
     "user": {
      "displayName": "Minho Lee",
      "photoUrl": "https://lh3.googleusercontent.com/a-/AOh14Gj_XE-jWo5wCYVWIgZ7hcE7L2_mrlLN8GnkxoYTZQ=s64",
      "userId": "12588095538886834082"
     },
     "user_tz": -540
    },
    "id": "Q5v43IDx3_l3",
    "outputId": "268c37ea-443f-4cbb-9256-52bca53af2a9"
   },
   "outputs": [],
   "source": [
    "# 교차검증을 위해 10개 데이터 집합으로 분리\n",
    "folds = StratifiedKFold(n_splits=10, shuffle=True, random_state=seed) # 10개 집합의 크기를 비슷하게 분리함\n",
    "cv_scores = []\n",
    "\n",
    "for train, test in folds.split(X, Y):\n",
    "# 모델 생성\n",
    "\tmodel = Sequential()\n",
    "\tmodel.add(Dense(16, input_dim=8, activation='relu'))\n",
    "\tmodel.add(Dense(8, activation='relu'))\n",
    "\tmodel.add(Dense(1, activation='sigmoid'))\n",
    "\t# 모델 컴파일\n",
    "\tmodel.compile(loss='binary_crossentropy', optimizer='adam', metrics=['accuracy'])\n",
    "\t# 학습\n",
    "\tmodel.fit(X[train], Y[train], epochs=50, batch_size=10, verbose=0)\n",
    "\t# 모델 평가 (검증집합에서)\n",
    "\tscores = model.evaluate(X[test], Y[test], verbose=0)\n",
    "\tprint(\"%s: %.2f%%\" % (model.metrics_names[1], scores[1]*100))\n",
    "\tcv_scores.append(scores[1] * 100)\n",
    "    "
   ]
  },
  {
   "cell_type": "code",
   "execution_count": 1,
   "metadata": {
    "colab": {
     "base_uri": "https://localhost:8080/",
     "height": 336
    },
    "colab_type": "code",
    "executionInfo": {
     "elapsed": 34267,
     "status": "ok",
     "timestamp": 1597736028990,
     "user": {
      "displayName": "Minho Lee",
      "photoUrl": "https://lh3.googleusercontent.com/a-/AOh14Gj_XE-jWo5wCYVWIgZ7hcE7L2_mrlLN8GnkxoYTZQ=s64",
      "userId": "12588095538886834082"
     },
     "user_tz": -540
    },
    "id": "Q5v43IDx3_l3",
    "outputId": "268c37ea-443f-4cbb-9256-52bca53af2a9"
   },
   "outputs": [
    {
     "name": "stdout",
     "output_type": "stream",
     "text": [
      "accuracy: 62.34%\n",
      "accuracy: 61.04%\n",
      "accuracy: 72.73%\n",
      "accuracy: 63.64%\n",
      "WARNING:tensorflow:5 out of the last 13 calls to <function Model.make_test_function.<locals>.test_function at 0x7fd44ff1ee18> triggered tf.function retracing. Tracing is expensive and the excessive number of tracings could be due to (1) creating @tf.function repeatedly in a loop, (2) passing tensors with different shapes, (3) passing Python objects instead of tensors. For (1), please define your @tf.function outside of the loop. For (2), @tf.function has experimental_relax_shapes=True option that relaxes argument shapes that can avoid unnecessary retracing. For (3), please refer to https://www.tensorflow.org/tutorials/customization/performance#python_or_tensor_args and https://www.tensorflow.org/api_docs/python/tf/function for  more details.\n",
      "accuracy: 74.03%\n",
      "WARNING:tensorflow:5 out of the last 13 calls to <function Model.make_test_function.<locals>.test_function at 0x7fd44edf7bf8> triggered tf.function retracing. Tracing is expensive and the excessive number of tracings could be due to (1) creating @tf.function repeatedly in a loop, (2) passing tensors with different shapes, (3) passing Python objects instead of tensors. For (1), please define your @tf.function outside of the loop. For (2), @tf.function has experimental_relax_shapes=True option that relaxes argument shapes that can avoid unnecessary retracing. For (3), please refer to https://www.tensorflow.org/tutorials/customization/performance#python_or_tensor_args and https://www.tensorflow.org/api_docs/python/tf/function for  more details.\n",
      "accuracy: 68.83%\n",
      "WARNING:tensorflow:5 out of the last 13 calls to <function Model.make_test_function.<locals>.test_function at 0x7fd44dc679d8> triggered tf.function retracing. Tracing is expensive and the excessive number of tracings could be due to (1) creating @tf.function repeatedly in a loop, (2) passing tensors with different shapes, (3) passing Python objects instead of tensors. For (1), please define your @tf.function outside of the loop. For (2), @tf.function has experimental_relax_shapes=True option that relaxes argument shapes that can avoid unnecessary retracing. For (3), please refer to https://www.tensorflow.org/tutorials/customization/performance#python_or_tensor_args and https://www.tensorflow.org/api_docs/python/tf/function for  more details.\n",
      "accuracy: 76.62%\n",
      "WARNING:tensorflow:5 out of the last 13 calls to <function Model.make_test_function.<locals>.test_function at 0x7fd45636a378> triggered tf.function retracing. Tracing is expensive and the excessive number of tracings could be due to (1) creating @tf.function repeatedly in a loop, (2) passing tensors with different shapes, (3) passing Python objects instead of tensors. For (1), please define your @tf.function outside of the loop. For (2), @tf.function has experimental_relax_shapes=True option that relaxes argument shapes that can avoid unnecessary retracing. For (3), please refer to https://www.tensorflow.org/tutorials/customization/performance#python_or_tensor_args and https://www.tensorflow.org/api_docs/python/tf/function for  more details.\n",
      "accuracy: 74.03%\n",
      "WARNING:tensorflow:5 out of the last 13 calls to <function Model.make_test_function.<locals>.test_function at 0x7fd44dc67b70> triggered tf.function retracing. Tracing is expensive and the excessive number of tracings could be due to (1) creating @tf.function repeatedly in a loop, (2) passing tensors with different shapes, (3) passing Python objects instead of tensors. For (1), please define your @tf.function outside of the loop. For (2), @tf.function has experimental_relax_shapes=True option that relaxes argument shapes that can avoid unnecessary retracing. For (3), please refer to https://www.tensorflow.org/tutorials/customization/performance#python_or_tensor_args and https://www.tensorflow.org/api_docs/python/tf/function for  more details.\n",
      "accuracy: 72.37%\n",
      "WARNING:tensorflow:5 out of the last 13 calls to <function Model.make_test_function.<locals>.test_function at 0x7fd453c0b0d0> triggered tf.function retracing. Tracing is expensive and the excessive number of tracings could be due to (1) creating @tf.function repeatedly in a loop, (2) passing tensors with different shapes, (3) passing Python objects instead of tensors. For (1), please define your @tf.function outside of the loop. For (2), @tf.function has experimental_relax_shapes=True option that relaxes argument shapes that can avoid unnecessary retracing. For (3), please refer to https://www.tensorflow.org/tutorials/customization/performance#python_or_tensor_args and https://www.tensorflow.org/api_docs/python/tf/function for  more details.\n",
      "accuracy: 69.74%\n",
      "69.54% (+/- 5.18%)\n"
     ]
    }
   ],
   "source": [
    "print(\"%.2f%% (+/- %.2f%%)\" % (numpy.mean(cv_scores), numpy.std(cv_scores)))"
   ]
  },
  {
   "cell_type": "code",
   "execution_count": null,
   "metadata": {
    "colab": {},
    "colab_type": "code",
    "id": "UYC22UH-3_l8"
   },
   "outputs": [],
   "source": []
  }
 ],
 "metadata": {
  "colab": {
   "collapsed_sections": [],
   "name": "Pima4-corssvalidation.ipynb",
   "provenance": []
  },
  "kernelspec": {
   "display_name": "Python 3",
   "language": "python",
   "name": "python3"
  },
  "language_info": {
   "codemirror_mode": {
    "name": "ipython",
    "version": 3
   },
   "file_extension": ".py",
   "mimetype": "text/x-python",
   "name": "python",
   "nbconvert_exporter": "python",
   "pygments_lexer": "ipython3",
   "version": "3.6.12"
  }
 },
 "nbformat": 4,
 "nbformat_minor": 1
}
